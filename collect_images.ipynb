{
 "cells": [
  {
   "cell_type": "code",
   "execution_count": null,
   "metadata": {},
   "outputs": [],
   "source": [
    "import os \n",
    "import cv2"
   ]
  },
  {
   "cell_type": "code",
   "execution_count": 2,
   "metadata": {},
   "outputs": [],
   "source": [
    "# Define the directory path where the dataset will be stored\n",
    "data_dir = \"./dataset\"\n",
    "\n",
    "# Check if the directory already exists, and if not, create it\n",
    "if not os.path.exists(data_dir):\n",
    "    os.makedirs(data_dir)"
   ]
  },
  {
   "cell_type": "code",
   "execution_count": 3,
   "metadata": {},
   "outputs": [],
   "source": [
    "num_classes = 10\n",
    "dataset_size = 1000"
   ]
  },
  {
   "cell_type": "code",
   "execution_count": 4,
   "metadata": {},
   "outputs": [],
   "source": [
    "# Initialize video capture object to read from the default webcam (device 0)\n",
    "cap = cv2.VideoCapture(0)\n",
    "\n",
    "# Loop through each class (number) to collect images\n",
    "for i in range(num_classes):\n",
    "    # Create a directory for the current class if it doesn't already exist\n",
    "    path = os.path.join(data_dir, str(i))\n",
    "\n",
    "    if not os.path.exists(path):\n",
    "        os.makedirs(path)\n",
    "\n",
    "    # Display a \"Ready\" message until the user presses 'q' to proceed\n",
    "    while True:\n",
    "        ret, frame = cap.read()  # Capture a frame from the webcam\n",
    "\n",
    "        # Display a message on the frame\n",
    "        cv2.putText(img=frame,                    # video frame to draw on\n",
    "            text='Are you ready ?',               # text to display\n",
    "            org=(100, 100),                       # bottom-left corner of the text (x, y) coordinates\n",
    "            fontFace=cv2.FONT_HERSHEY_SIMPLEX,    # font type\n",
    "            fontScale=1,                          # size scale factor for the text\n",
    "            color=(0, 255, 0),                    # text color in BGR format (Green here)\n",
    "            thickness=3,                          # thickness of the text stroke\n",
    "            lineType=cv2.LINE_AA)                 # Anti-aliased line type for smoother text\n",
    "        \n",
    "        # Show the frame with the message\n",
    "        cv2.imshow(\"frame\", frame)\n",
    "        \n",
    "        # Check if 'q' is pressed to quit the \"Are you ready?\" loop\n",
    "        if cv2.waitKey(1) & 0xFF == ord(\"q\"):\n",
    "            break\n",
    "\n",
    "    # Initialize counter to keep track of the number of images captured\n",
    "    counter = 0\n",
    "    # Collect 'dataset_size' number of images for the current class\n",
    "    while counter < dataset_size:\n",
    "        ret, frame = cap.read()  # Capture the next frame\n",
    "\n",
    "        # Display the current frame\n",
    "        cv2.imshow(\"frame\", frame)\n",
    "        cv2.waitKey(1)\n",
    "\n",
    "        # Save the frame as an image in the corresponding class folder\n",
    "        cv2.imwrite(os.path.join(path, f\"{counter}.png\"), frame)\n",
    "\n",
    "        # Increment the counter after saving each image\n",
    "        counter += 1\n",
    "\n",
    "# Release the video capture object and close any OpenCV windows\n",
    "cap.release()\n",
    "cv2.destroyAllWindows()"
   ]
  }
 ],
 "metadata": {
  "kernelspec": {
   "display_name": "Python 3 (ipykernel)",
   "language": "python",
   "name": "python3"
  },
  "language_info": {
   "codemirror_mode": {
    "name": "ipython",
    "version": 3
   },
   "file_extension": ".py",
   "mimetype": "text/x-python",
   "name": "python",
   "nbconvert_exporter": "python",
   "pygments_lexer": "ipython3",
   "version": "3.11.5"
  }
 },
 "nbformat": 4,
 "nbformat_minor": 4
}
